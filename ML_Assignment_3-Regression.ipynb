{
 "cells": [
  {
   "cell_type": "code",
   "execution_count": 7,
   "id": "1e61f41a-0937-4801-a149-c71aab48c0a6",
   "metadata": {},
   "outputs": [
    {
     "name": "stdout",
     "output_type": "stream",
     "text": [
      "   MedInc  HouseAge  AveRooms  AveBedrms  Population  AveOccup  Latitude  \\\n",
      "0  8.3252      41.0  6.984127   1.023810       322.0  2.555556     37.88   \n",
      "1  8.3014      21.0  6.238137   0.971880      2401.0  2.109842     37.86   \n",
      "2  7.2574      52.0  8.288136   1.073446       496.0  2.802260     37.85   \n",
      "3  5.6431      52.0  5.817352   1.073059       558.0  2.547945     37.85   \n",
      "4  3.8462      52.0  6.281853   1.081081       565.0  2.181467     37.85   \n",
      "\n",
      "   Longitude  MedHouseVal  \n",
      "0    -122.23        4.526  \n",
      "1    -122.22        3.585  \n",
      "2    -122.24        3.521  \n",
      "3    -122.25        3.413  \n",
      "4    -122.25        3.422  \n"
     ]
    }
   ],
   "source": [
    "from sklearn.datasets import fetch_california_housing\n",
    "import pandas as pd\n",
    "\n",
    "# Load dataset\n",
    "data = fetch_california_housing()\n",
    "df = pd.DataFrame(data.data, columns=data.feature_names)\n",
    "\n",
    "# Add target column (house prices)\n",
    "df['MedHouseVal'] = data.target\n",
    "\n",
    "# Show first few rows\n",
    "print(df.head())\n",
    "\n"
   ]
  },
  {
   "cell_type": "code",
   "execution_count": 9,
   "id": "515d1b0e-2cda-4ee6-9fc6-4026443e7dcb",
   "metadata": {},
   "outputs": [
    {
     "name": "stdout",
     "output_type": "stream",
     "text": [
      "MedInc         0\n",
      "HouseAge       0\n",
      "AveRooms       0\n",
      "AveBedrms      0\n",
      "Population     0\n",
      "AveOccup       0\n",
      "Latitude       0\n",
      "Longitude      0\n",
      "MedHouseVal    0\n",
      "dtype: int64\n"
     ]
    }
   ],
   "source": [
    "# Check for missing values (important!)\n",
    "print(df.isnull().sum())  # Good news: all should be 0\n",
    "\n",
    "# Separate input (X) and output (y)\n",
    "X = df.drop('MedHouseVal', axis=1)\n",
    "y = df['MedHouseVal']\n",
    "\n",
    "# Standardize the input features (important for some models like SVR)\n",
    "from sklearn.preprocessing import StandardScaler\n",
    "scaler = StandardScaler()\n",
    "X_scaled = scaler.fit_transform(X)\n"
   ]
  },
  {
   "cell_type": "code",
   "execution_count": 11,
   "id": "322f5c59-0f23-4383-903c-664f7e41bfd2",
   "metadata": {},
   "outputs": [],
   "source": [
    "from sklearn.model_selection import train_test_split\n",
    "\n",
    "X_train, X_test, y_train, y_test = train_test_split(X_scaled, y, test_size=0.2, random_state=42)\n"
   ]
  },
  {
   "cell_type": "code",
   "execution_count": 13,
   "id": "60813d5e-cf94-4bd8-ad4a-a586ede35282",
   "metadata": {},
   "outputs": [],
   "source": [
    "from sklearn.linear_model import LinearRegression\n",
    "\n",
    "lr = LinearRegression()\n",
    "lr.fit(X_train, y_train)\n",
    "y_pred_lr = lr.predict(X_test)\n"
   ]
  },
  {
   "cell_type": "code",
   "execution_count": 15,
   "id": "c3ad751e-7b29-423e-ae87-19f3c23b9c16",
   "metadata": {},
   "outputs": [],
   "source": [
    "from sklearn.tree import DecisionTreeRegressor\n",
    "\n",
    "dt = DecisionTreeRegressor(random_state=42)\n",
    "dt.fit(X_train, y_train)\n",
    "y_pred_dt = dt.predict(X_test)\n"
   ]
  },
  {
   "cell_type": "code",
   "execution_count": 17,
   "id": "6678b3c4-194c-46cc-b768-5ebdc4976340",
   "metadata": {},
   "outputs": [],
   "source": [
    "from sklearn.ensemble import RandomForestRegressor\n",
    "\n",
    "rf = RandomForestRegressor(random_state=42)\n",
    "rf.fit(X_train, y_train)\n",
    "y_pred_rf = rf.predict(X_test)\n"
   ]
  },
  {
   "cell_type": "code",
   "execution_count": 18,
   "id": "2578362d-856b-448f-84fa-2c5f7c6ee38c",
   "metadata": {},
   "outputs": [],
   "source": [
    "from sklearn.ensemble import GradientBoostingRegressor\n",
    "\n",
    "gb = GradientBoostingRegressor(random_state=42)\n",
    "gb.fit(X_train, y_train)\n",
    "y_pred_gb = gb.predict(X_test)\n"
   ]
  },
  {
   "cell_type": "code",
   "execution_count": 21,
   "id": "eda86326-1e6e-4faa-b766-d7fe8abd5a8a",
   "metadata": {},
   "outputs": [],
   "source": [
    "from sklearn.svm import SVR\n",
    "\n",
    "svr = SVR()\n",
    "svr.fit(X_train, y_train)\n",
    "y_pred_svr = svr.predict(X_test)\n"
   ]
  },
  {
   "cell_type": "code",
   "execution_count": 22,
   "id": "a111b81d-2489-479a-8035-bbf41ff592f9",
   "metadata": {},
   "outputs": [
    {
     "name": "stdout",
     "output_type": "stream",
     "text": [
      "----- Linear Regression -----\n",
      "MSE: 0.5558915986952441\n",
      "MAE: 0.5332001304956565\n",
      "R2 Score: 0.575787706032451\n",
      "\n",
      "\n",
      "----- Decision Tree -----\n",
      "MSE: 0.4942716777366763\n",
      "MAE: 0.4537843265503876\n",
      "R2 Score: 0.6228111330554302\n",
      "\n",
      "\n",
      "----- Random Forest -----\n",
      "MSE: 0.25549776668540763\n",
      "MAE: 0.32761306601259704\n",
      "R2 Score: 0.805024407701793\n",
      "\n",
      "\n",
      "----- Gradient Boosting -----\n",
      "MSE: 0.29399901242474274\n",
      "MAE: 0.37165044848436773\n",
      "R2 Score: 0.7756433164710084\n",
      "\n",
      "\n",
      "----- SVR -----\n",
      "MSE: 0.3551984619989429\n",
      "MAE: 0.397763096343787\n",
      "R2 Score: 0.7289407597956454\n",
      "\n",
      "\n"
     ]
    }
   ],
   "source": [
    "from sklearn.metrics import mean_squared_error, mean_absolute_error, r2_score\n",
    "\n",
    "def print_scores(y_true, y_pred, model_name):\n",
    "    print(f\"----- {model_name} -----\")\n",
    "    print(\"MSE:\", mean_squared_error(y_true, y_pred))\n",
    "    print(\"MAE:\", mean_absolute_error(y_true, y_pred))\n",
    "    print(\"R2 Score:\", r2_score(y_true, y_pred))\n",
    "    print(\"\\n\")\n",
    "\n",
    "# Call the function for all models\n",
    "print_scores(y_test, y_pred_lr, \"Linear Regression\")\n",
    "print_scores(y_test, y_pred_dt, \"Decision Tree\")\n",
    "print_scores(y_test, y_pred_rf, \"Random Forest\")\n",
    "print_scores(y_test, y_pred_gb, \"Gradient Boosting\")\n",
    "print_scores(y_test, y_pred_svr, \"SVR\")\n"
   ]
  },
  {
   "cell_type": "markdown",
   "id": "bf37d71a-466e-45b5-ac0c-f25ffef063a4",
   "metadata": {},
   "source": [
    "## 🔚 Conclusion\n",
    "\n",
    "After applying five regression algorithms to the California Housing dataset:\n",
    "\n",
    "- The **Random Forest Regressor** performed the best with an R2 score of **0.805**, the **lowest MSE** and **MAE**. This shows it can explain the most variation in house prices and makes smaller prediction errors.\n",
    "  \n",
    "- The **Linear Regression** model was the worst performer, with an R2 score of only **0.576**, suggesting that the linear assumption does not capture the complexity of the data well.\n",
    "\n",
    "Overall, **ensemble models** like Random Forest and Gradient Boosting worked better on this dataset compared to simple models like Linear Regression or SVR.\n"
   ]
  },
  {
   "cell_type": "code",
   "execution_count": null,
   "id": "21109a98-e63d-4d5a-bcfc-93c7b9284490",
   "metadata": {},
   "outputs": [],
   "source": []
  }
 ],
 "metadata": {
  "kernelspec": {
   "display_name": "Python [conda env:base] *",
   "language": "python",
   "name": "conda-base-py"
  },
  "language_info": {
   "codemirror_mode": {
    "name": "ipython",
    "version": 3
   },
   "file_extension": ".py",
   "mimetype": "text/x-python",
   "name": "python",
   "nbconvert_exporter": "python",
   "pygments_lexer": "ipython3",
   "version": "3.12.7"
  }
 },
 "nbformat": 4,
 "nbformat_minor": 5
}
